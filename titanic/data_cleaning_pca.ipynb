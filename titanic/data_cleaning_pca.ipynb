{
 "cells": [
  {
   "cell_type": "code",
   "execution_count": 3,
   "metadata": {
    "collapsed": false
   },
   "outputs": [],
   "source": [
    "import numpy as np"
   ]
  },
  {
   "cell_type": "code",
   "execution_count": 4,
   "metadata": {
    "collapsed": true
   },
   "outputs": [],
   "source": [
    "a = np.array([[1,2,3],[4,5,6]])"
   ]
  },
  {
   "cell_type": "code",
   "execution_count": 5,
   "metadata": {
    "collapsed": false
   },
   "outputs": [
    {
     "name": "stdout",
     "output_type": "stream",
     "text": [
      "[[1 2 3]\n",
      " [4 5 6]]\n"
     ]
    }
   ],
   "source": [
    "print a"
   ]
  },
  {
   "cell_type": "code",
   "execution_count": 6,
   "metadata": {
    "collapsed": false
   },
   "outputs": [
    {
     "name": "stdout",
     "output_type": "stream",
     "text": [
      "row 1: [1 2 3]\n",
      "row 2: [4 5 6]\n",
      "col 1: [1 4]\n",
      "col 2: [2 5]\n"
     ]
    }
   ],
   "source": [
    "print \"row 1:\",a[0,:]\n",
    "print \"row 2:\",a[1,:]\n",
    "print \"col 1:\",a[:,0]\n",
    "print \"col 2:\",a[:,1]"
   ]
  },
  {
   "cell_type": "code",
   "execution_count": 8,
   "metadata": {
    "collapsed": false
   },
   "outputs": [
    {
     "data": {
      "text/plain": [
       "array([ 0.15947465,  0.99440134,  0.4767618 ,  0.02441085,  0.68022213,\n",
       "        0.92652572,  0.15446463,  0.77306938,  0.85151861,  0.18458371])"
      ]
     },
     "execution_count": 8,
     "metadata": {},
     "output_type": "execute_result"
    }
   ],
   "source": [
    "y = np.random.uniform(size=10)\n",
    "y"
   ]
  },
  {
   "cell_type": "code",
   "execution_count": 9,
   "metadata": {
    "collapsed": true
   },
   "outputs": [],
   "source": [
    "y = np.random.uniform(5,6,size=10)"
   ]
  },
  {
   "cell_type": "code",
   "execution_count": 10,
   "metadata": {
    "collapsed": false
   },
   "outputs": [
    {
     "data": {
      "text/plain": [
       "array([ 5.89331905,  5.79742283,  5.66831005,  5.74289782,  5.13103632,\n",
       "        5.35470028,  5.26684622,  5.41420194,  5.9891941 ,  5.8199676 ])"
      ]
     },
     "execution_count": 10,
     "metadata": {},
     "output_type": "execute_result"
    }
   ],
   "source": [
    "y"
   ]
  },
  {
   "cell_type": "code",
   "execution_count": 26,
   "metadata": {
    "collapsed": false
   },
   "outputs": [],
   "source": [
    "import matplotlib.pyplot as plt"
   ]
  },
  {
   "cell_type": "code",
   "execution_count": 25,
   "metadata": {
    "collapsed": false
   },
   "outputs": [
    {
     "data": {
      "text/plain": [
       "<matplotlib.text.Text at 0x7f9fa6f14bd0>"
      ]
     },
     "execution_count": 25,
     "metadata": {},
     "output_type": "execute_result"
    }
   ],
   "source": []
  },
  {
   "cell_type": "code",
   "execution_count": 27,
   "metadata": {
    "collapsed": false
   },
   "outputs": [
    {
     "name": "stdout",
     "output_type": "stream",
     "text": [
      "Populating the interactive namespace from numpy and matplotlib\n"
     ]
    }
   ],
   "source": [
    "%pylab inline"
   ]
  },
  {
   "cell_type": "code",
   "execution_count": 28,
   "metadata": {
    "collapsed": false
   },
   "outputs": [
    {
     "data": {
      "text/plain": [
       "<matplotlib.text.Text at 0x7f9fa6e46fd0>"
      ]
     },
     "execution_count": 28,
     "metadata": {},
     "output_type": "execute_result"
    },
    {
     "data": {
      "image/png": "[encoded data removed]",
      "text/plain": [
       "<matplotlib.figure.Figure at 0x7f9fafa6a050>"
      ]
     },
     "metadata": {},
     "output_type": "display_data"
    }
   ],
   "source": [
    "x = np.arange(10)\n",
    "y = np.random.uniform(size=10)\n",
    "plt.plot(x,y)\n",
    "plt.title(\"dude\")\n",
    "plt.xlabel(\"x axis\")\n",
    "plt.ylabel(\"y axis\")"
   ]
  },
  {
   "cell_type": "code",
   "execution_count": 29,
   "metadata": {
    "collapsed": false
   },
   "outputs": [
    {
     "data": {
      "text/plain": [
       "<matplotlib.collections.PathCollection at 0x7f9fa6d17cd0>"
      ]
     },
     "execution_count": 29,
     "metadata": {},
     "output_type": "execute_result"
    },
    {
     "data": {
      "image/png": "[encoded data removed]",
      "text/plain": [
       "<matplotlib.figure.Figure at 0x7f9fa6d92f50>"
      ]
     },
     "metadata": {},
     "output_type": "display_data"
    }
   ],
   "source": [
    "plt.scatter(x,y,s=100)"
   ]
  },
  {
   "cell_type": "code",
   "execution_count": 30,
   "metadata": {
    "collapsed": true
   },
   "outputs": [],
   "source": [
    "import pandas as pd"
   ]
  },
  {
   "cell_type": "code",
   "execution_count": 41,
   "metadata": {
    "collapsed": false
   },
   "outputs": [
    {
     "name": "stdout",
     "output_type": "stream",
     "text": [
      "  product        type     prod  percent  rank\n",
      "0  cheese    American   794538     18.8     1\n",
      "1  cheese     Italian  1348636     29.5     2\n",
      "2  cheese    Muenster    50108     34.2     1\n",
      "3  cheese       brick     3054     26.7     2\n",
      "4  cheese  Mozzerella   898721     25.2     2\n"
     ]
    }
   ],
   "source": [
    "cheese = pd.DataFrame({'type' : ['American', 'Italian','Muenster','brick','Mozzerella'],\n",
    "                    'prod' : [794538,1348636,50108,3054,898721],\n",
    "                    'percent' : [18.8, 29.5, 34.2, 26.7, 25.2],\n",
    "                    'rank' : [1,2,1,2,2]})\n",
    "cheese['product'] = 'cheese'\n",
    "cheese = cheese.reindex(columns = ['product','type','prod','percent','rank'])\n",
    "print cheese.head()"
   ]
  },
  {
   "cell_type": "code",
   "execution_count": 42,
   "metadata": {
    "collapsed": false
   },
   "outputs": [
    {
     "name": "stdout",
     "output_type": "stream",
     "text": [
      "  product        type  rank variable      value\n",
      "0  cheese    American     1     prod   794538.0\n",
      "1  cheese     Italian     2     prod  1348636.0\n",
      "2  cheese    Muenster     1     prod    50108.0\n",
      "3  cheese       brick     2     prod     3054.0\n",
      "4  cheese  Mozzerella     2     prod   898721.0\n",
      "5  cheese    American     1  percent       18.8\n",
      "6  cheese     Italian     2  percent       29.5\n",
      "7  cheese    Muenster     1  percent       34.2\n",
      "8  cheese       brick     2  percent       26.7\n",
      "9  cheese  Mozzerella     2  percent       25.2\n"
     ]
    }
   ],
   "source": [
    "cheese_stack = pd.melt(cheese, id_vars = ['product','type','rank'])\n",
    "print cheese_stack"
   ]
  },
  {
   "cell_type": "code",
   "execution_count": 43,
   "metadata": {
    "collapsed": false
   },
   "outputs": [
    {
     "name": "stdout",
     "output_type": "stream",
     "text": [
      "   product        type variable      value\n",
      "0   cheese    American     prod   794538.0\n",
      "1   cheese     Italian     prod  1348636.0\n",
      "2   cheese    Muenster     prod    50108.0\n",
      "3   cheese       brick     prod     3054.0\n",
      "4   cheese  Mozzerella     prod   898721.0\n",
      "5   cheese    American  percent       18.8\n",
      "6   cheese     Italian  percent       29.5\n",
      "7   cheese    Muenster  percent       34.2\n",
      "8   cheese       brick  percent       26.7\n",
      "9   cheese  Mozzerella  percent       25.2\n",
      "10  cheese    American     rank        1.0\n",
      "11  cheese     Italian     rank        2.0\n",
      "12  cheese    Muenster     rank        1.0\n",
      "13  cheese       brick     rank        2.0\n",
      "14  cheese  Mozzerella     rank        2.0\n"
     ]
    }
   ],
   "source": [
    "cheese_stack = pd.melt(cheese,id_vars = ['product','type'])\n",
    "print cheese_stack"
   ]
  },
  {
   "cell_type": "code",
   "execution_count": 44,
   "metadata": {
    "collapsed": false
   },
   "outputs": [
    {
     "name": "stdout",
     "output_type": "stream",
     "text": [
      "                       prod  percent  rank\n",
      "product type                              \n",
      "cheese  American     794538     18.8     1\n",
      "        Italian     1348636     29.5     2\n",
      "        Muenster      50108     34.2     1\n",
      "        brick          3054     26.7     2\n",
      "        Mozzerella   898721     25.2     2\n"
     ]
    }
   ],
   "source": [
    "cheese = cheese.set_index(['product','type'])\n",
    "print cheese.head()"
   ]
  },
  {
   "cell_type": "code",
   "execution_count": 47,
   "metadata": {
    "collapsed": false
   },
   "outputs": [
    {
     "name": "stdout",
     "output_type": "stream",
     "text": [
      "0\n",
      "1\n",
      "2\n",
      "3\n",
      "4\n",
      "5\n",
      "6\n",
      "7\n",
      "8\n",
      "9\n",
      "10\n",
      "11\n",
      "12\n",
      "13\n",
      "14\n"
     ]
    }
   ],
   "source": [
    "for x in cheese_stack.index.values:\n",
    "    print x"
   ]
  },
  {
   "cell_type": "code",
   "execution_count": 48,
   "metadata": {
    "collapsed": true
   },
   "outputs": [],
   "source": [
    "Cov = np.array([[2.9,-2.2],[-2.2,6.5]])\n",
    "X = np.random.multivariate_normal([1,2],Cov,size = 200)"
   ]
  },
  {
   "cell_type": "code",
   "execution_count": 49,
   "metadata": {
    "collapsed": false
   },
   "outputs": [
    {
     "name": "stdout",
     "output_type": "stream",
     "text": [
      "[[ 0.9861  1.3422]\n",
      " [ 2.5828  2.6455]\n",
      " [ 1.5223  4.66  ]\n",
      " [ 2.4224  0.2593]\n",
      " [ 2.8677 -2.6311]\n",
      " [-2.0752  2.0769]\n",
      " [ 2.0327 -0.8257]\n",
      " [ 2.8668 -0.9852]\n",
      " [ 0.7769  2.6332]\n",
      " [ 1.0555  2.3563]]\n"
     ]
    }
   ],
   "source": [
    "np.set_printoptions(4,suppress=True)\n",
    "print X[:10,:]"
   ]
  },
  {
   "cell_type": "code",
   "execution_count": 51,
   "metadata": {
    "collapsed": false
   },
   "outputs": [
    {
     "data": {
      "text/plain": [
       "(-6.0, 8.0, -6.0, 10.0)"
      ]
     },
     "execution_count": 51,
     "metadata": {},
     "output_type": "execute_result"
    },
    {
     "data": {
      "image/png": "[encoded data removed]",
      "text/plain": [
       "<matplotlib.figure.Figure at 0x7f9fa18fd8d0>"
      ]
     },
     "metadata": {},
     "output_type": "display_data"
    }
   ],
   "source": [
    "plt.scatter(X[:,0],X[:,1])\n",
    "plt.axis('equal')"
   ]
  },
  {
   "cell_type": "code",
   "execution_count": 55,
   "metadata": {
    "collapsed": false
   },
   "outputs": [
    {
     "name": "stdout",
     "output_type": "stream",
     "text": [
      "[[ 3.1704 -2.4229]\n",
      " [-2.4229  7.219 ]]\n"
     ]
    }
   ],
   "source": [
    "print np.cov(X,rowvar=False)"
   ]
  },
  {
   "cell_type": "code",
   "execution_count": 56,
   "metadata": {
    "collapsed": false
   },
   "outputs": [],
   "source": [
    "from sklearn.decomposition import PCA"
   ]
  },
  {
   "cell_type": "code",
   "execution_count": 57,
   "metadata": {
    "collapsed": false
   },
   "outputs": [
    {
     "data": {
      "text/plain": [
       "array([[ 0.4236, -0.9059],\n",
       "       [ 0.9059,  0.4236]])"
      ]
     },
     "execution_count": 57,
     "metadata": {},
     "output_type": "execute_result"
    }
   ],
   "source": [
    "pca = PCA()\n",
    "X_pca = pca.fit_transform(X)\n",
    "pca.components_"
   ]
  },
  {
   "cell_type": "code",
   "execution_count": 58,
   "metadata": {
    "collapsed": false
   },
   "outputs": [
    {
     "data": {
      "text/plain": [
       "array([ 0.7517,  2.0418])"
      ]
     },
     "execution_count": 58,
     "metadata": {},
     "output_type": "execute_result"
    }
   ],
   "source": [
    "pca.mean_"
   ]
  },
  {
   "cell_type": "code",
   "execution_count": 59,
   "metadata": {
    "collapsed": false
   },
   "outputs": [
    {
     "data": {
      "text/plain": [
       "<matplotlib.collections.PathCollection at 0x7f9f95df3310>"
      ]
     },
     "execution_count": 59,
     "metadata": {},
     "output_type": "execute_result"
    },
    {
     "data": {
      "image/png": "[encoded data removed]",
      "text/plain": [
       "<matplotlib.figure.Figure at 0x7f9fa0d7a8d0>"
      ]
     },
     "metadata": {},
     "output_type": "display_data"
    }
   ],
   "source": [
    "plt.scatter(X_pca[:,0],X_pca[:,1])"
   ]
  },
  {
   "cell_type": "code",
   "execution_count": 60,
   "metadata": {
    "collapsed": false
   },
   "outputs": [
    {
     "name": "stdout",
     "output_type": "stream",
     "text": [
      "[[ 8.3519  0.    ]\n",
      " [ 0.      2.0374]]\n"
     ]
    }
   ],
   "source": [
    "print np.cov(X_pca, rowvar = False)"
   ]
  },
  {
   "cell_type": "code",
   "execution_count": 61,
   "metadata": {
    "collapsed": true
   },
   "outputs": [],
   "source": [
    "np.random.seed(1)\n",
    "X_HD = np.dot(X,np.random.uniform(0.2,3,(2,4))*(np.random.randint(0,2,(2,4))*2-1))"
   ]
  },
  {
   "cell_type": "code",
   "execution_count": 64,
   "metadata": {
    "collapsed": false
   },
   "outputs": [
    {
     "name": "stdout",
     "output_type": "stream",
     "text": [
      "[[-2.1686  2.8015 -1.166  -2.5991]\n",
      " [-5.1486  6.9389 -2.4262 -5.7918]\n",
      " [-4.9288  5.5116 -3.6672 -7.034 ]\n",
      " [-3.4714  5.4891 -0.6724 -2.8379]\n",
      " [-2.3147  5.151   1.324   0.0709]\n",
      " [ 1.5693 -3.6481 -1.0828 -0.2532]\n",
      " [-2.2756  4.1276  0.1886 -1.1632]\n",
      " [-3.319   5.9037  0.1366 -1.8499]\n",
      " [-2.6713  2.9299 -2.0556 -3.8876]\n",
      " [-2.8831  3.4205 -1.9116 -3.8558]]\n"
     ]
    }
   ],
   "source": [
    "print X_HD[:10]"
   ]
  },
  {
   "cell_type": "code",
   "execution_count": 65,
   "metadata": {
    "collapsed": true
   },
   "outputs": [],
   "source": [
    "x_he = pca.fit_transform(X_HD)"
   ]
  },
  {
   "cell_type": "code",
   "execution_count": 66,
   "metadata": {
    "collapsed": false
   },
   "outputs": [
    {
     "name": "stdout",
     "output_type": "stream",
     "text": [
      "[[-0.2457  0.7258 -0.     -0.    ]\n",
      " [ 5.877   0.1845  0.      0.    ]\n",
      " [ 5.5104 -2.0592  0.      0.    ]\n",
      " [ 2.3646  2.2773  0.      0.    ]\n",
      " [-0.1079  5.0675  0.      0.    ]\n",
      " [-7.8303 -1.1591  0.     -0.    ]\n",
      " [-0.1149  3.1026  0.     -0.    ]\n",
      " [ 2.0041  3.5795  0.     -0.    ]\n",
      " [ 0.8302 -0.5245  0.     -0.    ]\n",
      " [ 1.2507 -0.1631  0.      0.    ]]\n"
     ]
    }
   ],
   "source": [
    "print x_he[:10]"
   ]
  },
  {
   "cell_type": "code",
   "execution_count": null,
   "metadata": {
    "collapsed": true
   },
   "outputs": [],
   "source": []
  }
 ],
 "metadata": {
  "kernelspec": {
   "display_name": "Python 2",
   "language": "python",
   "name": "python2"
  },
  "language_info": {
   "codemirror_mode": {
    "name": "ipython",
    "version": 2
   },
   "file_extension": ".py",
   "mimetype": "text/x-python",
   "name": "python",
   "nbconvert_exporter": "python",
   "pygments_lexer": "ipython2",
   "version": "2.7.10"
  }
 },
 "nbformat": 4,
 "nbformat_minor": 0
}
